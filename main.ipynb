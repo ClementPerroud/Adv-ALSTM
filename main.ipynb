{
 "cells": [
  {
   "cell_type": "code",
   "execution_count": 9,
   "metadata": {
    "execution": {
     "iopub.execute_input": "2023-03-21T15:15:50.092049Z",
     "iopub.status.busy": "2023-03-21T15:15:50.091379Z",
     "iopub.status.idle": "2023-03-21T15:15:50.139609Z",
     "shell.execute_reply": "2023-03-21T15:15:50.138858Z",
     "shell.execute_reply.started": "2023-03-21T15:15:50.092014Z"
    }
   },
   "outputs": [],
   "source": [
    "import tensorflow as tf\n",
    "import pandas as pd\n",
    "import numpy as np\n",
    "import glob\n",
    "import datetime\n",
    "from sklearn.preprocessing import robust_scale\n",
    "from tqdm.auto import tqdm\n",
    "\n",
    "from preprocessing_utils import *\n",
    "from AdvModel import AdvModel"
   ]
  },
  {
   "cell_type": "code",
   "execution_count": 10,
   "metadata": {
    "execution": {
     "iopub.execute_input": "2023-03-21T15:15:50.141637Z",
     "iopub.status.busy": "2023-03-21T15:15:50.141126Z",
     "iopub.status.idle": "2023-03-21T15:15:50.185623Z",
     "shell.execute_reply": "2023-03-21T15:15:50.184950Z",
     "shell.execute_reply.started": "2023-03-21T15:15:50.141613Z"
    }
   },
   "outputs": [
    {
     "name": "stdout",
     "output_type": "stream",
     "text": [
      "The autoreload extension is already loaded. To reload it, use:\n",
      "  %reload_ext autoreload\n"
     ]
    }
   ],
   "source": [
    "%load_ext autoreload\n",
    "%autoreload 2"
   ]
  },
  {
   "cell_type": "code",
   "execution_count": 11,
   "metadata": {
    "execution": {
     "iopub.execute_input": "2023-03-21T15:15:50.186877Z",
     "iopub.status.busy": "2023-03-21T15:15:50.186651Z",
     "iopub.status.idle": "2023-03-21T15:15:50.234307Z",
     "shell.execute_reply": "2023-03-21T15:15:50.233399Z",
     "shell.execute_reply.started": "2023-03-21T15:15:50.186856Z"
    }
   },
   "outputs": [],
   "source": [
    "T = 15\n",
    "\n",
    "date_limit_train_validation = datetime.datetime(year = 2016, month=5, day=1)\n",
    "features = {\n",
    "    \"preprocessed_open\": lambda df : df[\"Open\"] / df[\"Close\"] - 1,\n",
    "    \"preprocessed_high\": lambda df : df[\"High\"] / df[\"Close\"] - 1,\n",
    "    \"preprocessed_low\": lambda df : df[\"Low\"] / df[\"Close\"] - 1,\n",
    "    \"preprocessed_close\": lambda df : df[\"Close\"].pct_change(),\n",
    "    \"preprocessed_adj_close\": lambda df : df[\"Adj Close\"].pct_change(),\n",
    "    \"preprocessed_5-day\": lambda df : (df[\"Adj Close\"].rolling(5).mean() / df[\"Adj Close\"]) -1,\n",
    "    \"preprocessed_10-day\": lambda df : (df[\"Adj Close\"].rolling(10).mean() / df[\"Adj Close\"]) -1,\n",
    "    \"preprocessed_15-day\": lambda df : (df[\"Adj Close\"].rolling(15).mean() / df[\"Adj Close\"]) -1,\n",
    "    \"preprocessed_20-day\": lambda df : (df[\"Adj Close\"].rolling(20).mean() / df[\"Adj Close\"]) -1,\n",
    "    \"preprocessed_25-day\": lambda df : (df[\"Adj Close\"].rolling(25).mean() / df[\"Adj Close\"]) -1,\n",
    "    \"preprocessed_30-day\": lambda df : (df[\"Adj Close\"].rolling(30).mean() / df[\"Adj Close\"]) -1,\n",
    "    \"preprocessed_volume\": lambda df : df[\"Volume\"]\n",
    "}\n",
    "\n"
   ]
  },
  {
   "cell_type": "markdown",
   "metadata": {
    "execution": {
     "iopub.execute_input": "2023-03-21T14:58:58.495445Z",
     "iopub.status.busy": "2023-03-21T14:58:58.494999Z",
     "iopub.status.idle": "2023-03-21T14:58:58.501344Z",
     "shell.execute_reply": "2023-03-21T14:58:58.500607Z",
     "shell.execute_reply.started": "2023-03-21T14:58:58.495423Z"
    }
   },
   "source": [
    "# Data : Gather & Preprocess"
   ]
  },
  {
   "cell_type": "code",
   "execution_count": 13,
   "metadata": {
    "execution": {
     "iopub.execute_input": "2023-03-21T15:16:26.717207Z",
     "iopub.status.busy": "2023-03-21T15:16:26.716190Z",
     "iopub.status.idle": "2023-03-21T15:16:31.550967Z",
     "shell.execute_reply": "2023-03-21T15:16:31.550303Z",
     "shell.execute_reply.started": "2023-03-21T15:16:26.717176Z"
    }
   },
   "outputs": [
    {
     "data": {
      "application/vnd.jupyter.widget-view+json": {
       "model_id": "c60c8382936b432c9ee64109f03b5489",
       "version_major": 2,
       "version_minor": 0
      },
      "text/plain": [
       "  0%|          | 0/87 [00:00<?, ?it/s]"
      ]
     },
     "metadata": {},
     "output_type": "display_data"
    },
    {
     "data": {
      "text/plain": [
       "((44268, 15, 12), (44268,), (14237, 15, 12), (14237,))"
      ]
     },
     "execution_count": 13,
     "metadata": {},
     "output_type": "execute_result"
    }
   ],
   "source": [
    "raw_data_path = \"data/stocknet-dataset/price/raw/*.csv\"\n",
    "raw_data_pathes = glob.glob(raw_data_path)\n",
    "\n",
    "X_train, y_train = None, None\n",
    "X_validation, y_validation = None, None\n",
    "#Iterate through each stock RAW data\n",
    "for path in tqdm(raw_data_pathes): \n",
    "    stock_df = pd.read_csv(path, parse_dates=[\"Date\"],index_col=\"Date\")\n",
    "    \n",
    "    ## Generate labels\n",
    "    labelling(stock_df)\n",
    "\n",
    "    ## Preprocessing\n",
    "    stock_df.sort_index(inplace= True)\n",
    "    stock_df.dropna(inplace = True)\n",
    "\n",
    "    ### Apply features functions\n",
    "    for feature_key in features.keys(): \n",
    "        stock_df[feature_key] = robust_scale(features[feature_key](stock_df))\n",
    "    stock_df.dropna(inplace = True)\n",
    "\n",
    "    train_stock_df = stock_df[stock_df.index < date_limit_train_validation]\n",
    "    validation_stock_df = stock_df[stock_df.index >= date_limit_train_validation]\n",
    "\n",
    "    ## Generate sequences\n",
    "    X_stock_train, y_stock_train = generate_sequences(df = train_stock_df, features_columns= features.keys(), T = T )\n",
    "    X_stock_validation, y_stock_validation = generate_sequences(df = validation_stock_df, features_columns= features.keys(), T = T)\n",
    "\n",
    "    if X_train is None: X_train = X_stock_train\n",
    "    else : X_train = np.concatenate([X_train, X_stock_train], axis = 0)\n",
    "    if X_validation is None: X_validation = X_stock_validation\n",
    "    else : X_validation = np.concatenate([X_validation, X_stock_validation], axis = 0)\n",
    "    if y_train is None: y_train = y_stock_train\n",
    "    else : y_train = np.concatenate([y_train, y_stock_train], axis = 0)\n",
    "    if y_validation is None: y_validation = y_stock_validation\n",
    "    else : y_validation = np.concatenate([y_validation, y_stock_validation], axis = 0)\n",
    "\n",
    "# Shuffle X and y\n",
    "X_train, y_train = shuffled_X_y(X_train, y_train)\n",
    "X_validation, y_validation = shuffled_X_y(X_validation, y_validation)\n",
    "X_train.shape, y_train.shape, X_validation.shape, y_validation.shape"
   ]
  },
  {
   "cell_type": "markdown",
   "metadata": {},
   "source": [
    "# LSTM Model"
   ]
  },
  {
   "cell_type": "code",
   "execution_count": 18,
   "metadata": {
    "execution": {
     "iopub.execute_input": "2023-03-21T15:21:13.080574Z",
     "iopub.status.busy": "2023-03-21T15:21:13.079756Z",
     "iopub.status.idle": "2023-03-21T15:21:22.376538Z",
     "shell.execute_reply": "2023-03-21T15:21:22.375659Z",
     "shell.execute_reply.started": "2023-03-21T15:21:13.080529Z"
    }
   },
   "outputs": [
    {
     "name": "stdout",
     "output_type": "stream",
     "text": [
      "Epoch 1/30\n",
      "44/44 [==============================] - 2s 14ms/step - loss: 0.9936 - acc: 0.4709 - val_loss: 0.8957 - val_acc: 0.5154\n",
      "Epoch 2/30\n",
      "44/44 [==============================] - 0s 5ms/step - loss: 0.7899 - acc: 0.5167 - val_loss: 0.7296 - val_acc: 0.5278\n",
      "Epoch 3/30\n",
      "44/44 [==============================] - 0s 5ms/step - loss: 0.7109 - acc: 0.5190 - val_loss: 0.6999 - val_acc: 0.5259\n",
      "Epoch 4/30\n",
      "44/44 [==============================] - 0s 5ms/step - loss: 0.6984 - acc: 0.5185 - val_loss: 0.6950 - val_acc: 0.5302\n",
      "Epoch 5/30\n",
      "44/44 [==============================] - 0s 6ms/step - loss: 0.6949 - acc: 0.5258 - val_loss: 0.6955 - val_acc: 0.5132\n",
      "Epoch 6/30\n",
      "44/44 [==============================] - 0s 5ms/step - loss: 0.6939 - acc: 0.5244 - val_loss: 0.6951 - val_acc: 0.5090\n",
      "Epoch 7/30\n",
      "44/44 [==============================] - 0s 5ms/step - loss: 0.6924 - acc: 0.5246 - val_loss: 0.6914 - val_acc: 0.5348\n",
      "Epoch 8/30\n",
      "44/44 [==============================] - 0s 5ms/step - loss: 0.6917 - acc: 0.5268 - val_loss: 0.6926 - val_acc: 0.5259\n",
      "Epoch 9/30\n",
      "44/44 [==============================] - 0s 5ms/step - loss: 0.6916 - acc: 0.5254 - val_loss: 0.6950 - val_acc: 0.4991\n",
      "Epoch 10/30\n",
      "44/44 [==============================] - 0s 6ms/step - loss: 0.6912 - acc: 0.5276 - val_loss: 0.6932 - val_acc: 0.5157\n",
      "Epoch 11/30\n",
      "44/44 [==============================] - 0s 5ms/step - loss: 0.6908 - acc: 0.5287 - val_loss: 0.6915 - val_acc: 0.5307\n",
      "Epoch 12/30\n",
      "44/44 [==============================] - 0s 5ms/step - loss: 0.6912 - acc: 0.5281 - val_loss: 0.6935 - val_acc: 0.5057\n",
      "Epoch 13/30\n",
      "44/44 [==============================] - 0s 5ms/step - loss: 0.6906 - acc: 0.5314 - val_loss: 0.6907 - val_acc: 0.5347\n",
      "Epoch 14/30\n",
      "44/44 [==============================] - 0s 5ms/step - loss: 0.6905 - acc: 0.5290 - val_loss: 0.6939 - val_acc: 0.5045\n",
      "Epoch 15/30\n",
      "44/44 [==============================] - 0s 5ms/step - loss: 0.6902 - acc: 0.5326 - val_loss: 0.6918 - val_acc: 0.5224\n",
      "Epoch 16/30\n",
      "44/44 [==============================] - 0s 6ms/step - loss: 0.6903 - acc: 0.5277 - val_loss: 0.6934 - val_acc: 0.5102\n",
      "Epoch 17/30\n",
      "44/44 [==============================] - 0s 5ms/step - loss: 0.6899 - acc: 0.5328 - val_loss: 0.6909 - val_acc: 0.5306\n",
      "Epoch 18/30\n",
      "44/44 [==============================] - 0s 5ms/step - loss: 0.6900 - acc: 0.5325 - val_loss: 0.6911 - val_acc: 0.5281\n",
      "Epoch 19/30\n",
      "44/44 [==============================] - 0s 5ms/step - loss: 0.6895 - acc: 0.5329 - val_loss: 0.6932 - val_acc: 0.5103\n",
      "Epoch 20/30\n",
      "44/44 [==============================] - 0s 5ms/step - loss: 0.6899 - acc: 0.5326 - val_loss: 0.6960 - val_acc: 0.4910\n",
      "Epoch 21/30\n",
      "44/44 [==============================] - 0s 5ms/step - loss: 0.6893 - acc: 0.5341 - val_loss: 0.6914 - val_acc: 0.5267\n",
      "Epoch 22/30\n",
      "44/44 [==============================] - 0s 6ms/step - loss: 0.6891 - acc: 0.5350 - val_loss: 0.6940 - val_acc: 0.5041\n",
      "Epoch 23/30\n",
      "44/44 [==============================] - 0s 5ms/step - loss: 0.6895 - acc: 0.5303 - val_loss: 0.6918 - val_acc: 0.5229\n",
      "Epoch 24/30\n",
      "44/44 [==============================] - 0s 6ms/step - loss: 0.6892 - acc: 0.5354 - val_loss: 0.6914 - val_acc: 0.5266\n",
      "Epoch 25/30\n",
      "44/44 [==============================] - 0s 5ms/step - loss: 0.6888 - acc: 0.5366 - val_loss: 0.6908 - val_acc: 0.5314\n",
      "Epoch 26/30\n",
      "44/44 [==============================] - 0s 5ms/step - loss: 0.6888 - acc: 0.5363 - val_loss: 0.6920 - val_acc: 0.5178\n",
      "Epoch 27/30\n",
      "44/44 [==============================] - 0s 5ms/step - loss: 0.6887 - acc: 0.5369 - val_loss: 0.6933 - val_acc: 0.5097\n",
      "Epoch 28/30\n",
      "44/44 [==============================] - 0s 5ms/step - loss: 0.6889 - acc: 0.5360 - val_loss: 0.6982 - val_acc: 0.4861\n",
      "Epoch 29/30\n",
      "44/44 [==============================] - 0s 5ms/step - loss: 0.6882 - acc: 0.5382 - val_loss: 0.6970 - val_acc: 0.4874\n",
      "Epoch 30/30\n",
      "44/44 [==============================] - 0s 6ms/step - loss: 0.6886 - acc: 0.5368 - val_loss: 0.6937 - val_acc: 0.5078\n"
     ]
    },
    {
     "data": {
      "text/plain": [
       "<keras.callbacks.History at 0x7fb6342aa580>"
      ]
     },
     "execution_count": 18,
     "metadata": {},
     "output_type": "execute_result"
    }
   ],
   "source": [
    "model = tf.keras.models.Sequential([\n",
    "    tf.keras.layers.LSTM(16, dropout = 0.2, return_sequences= False),\n",
    "    tf.keras.layers.Dense(3, activation=\"softmax\")\n",
    "])\n",
    "model.compile(\n",
    "    loss= \"sparse_categorical_crossentropy\",\n",
    "    optimizer= \"adam\",\n",
    "    metrics = [\"acc\"]\n",
    ")\n",
    "model.fit(\n",
    "    X_train, (y_train + 1)/2,\n",
    "    validation_data = (X_validation, (y_validation + 1)/2),\n",
    "    epochs = 30,\n",
    "    batch_size = 1024\n",
    ")"
   ]
  },
  {
   "cell_type": "code",
   "execution_count": 23,
   "metadata": {
    "execution": {
     "iopub.execute_input": "2023-03-21T15:24:24.781994Z",
     "iopub.status.busy": "2023-03-21T15:24:24.781647Z",
     "iopub.status.idle": "2023-03-21T15:24:32.515293Z",
     "shell.execute_reply": "2023-03-21T15:24:32.514357Z",
     "shell.execute_reply.started": "2023-03-21T15:24:24.781969Z"
    }
   },
   "outputs": [
    {
     "name": "stdout",
     "output_type": "stream",
     "text": [
      "Epoch 1/30\n",
      "44/44 [==============================] - 0s 5ms/step - loss: nan - acc: 0.0000e+00 - val_loss: nan - val_acc: 0.0000e+00\n",
      "Epoch 2/30\n",
      "44/44 [==============================] - 0s 5ms/step - loss: nan - acc: 0.0000e+00 - val_loss: nan - val_acc: 0.0000e+00\n",
      "Epoch 3/30\n",
      "44/44 [==============================] - 0s 5ms/step - loss: nan - acc: 0.0000e+00 - val_loss: nan - val_acc: 0.0000e+00\n",
      "Epoch 4/30\n",
      "44/44 [==============================] - 0s 5ms/step - loss: nan - acc: 0.0000e+00 - val_loss: nan - val_acc: 0.0000e+00\n",
      "Epoch 5/30\n",
      "44/44 [==============================] - 0s 5ms/step - loss: nan - acc: 0.0000e+00 - val_loss: nan - val_acc: 0.0000e+00\n",
      "Epoch 6/30\n",
      "44/44 [==============================] - 0s 5ms/step - loss: nan - acc: 0.0000e+00 - val_loss: nan - val_acc: 0.0000e+00\n",
      "Epoch 7/30\n",
      "44/44 [==============================] - 0s 5ms/step - loss: nan - acc: 0.0000e+00 - val_loss: nan - val_acc: 0.0000e+00\n",
      "Epoch 8/30\n",
      "44/44 [==============================] - 0s 5ms/step - loss: nan - acc: 0.0000e+00 - val_loss: nan - val_acc: 0.0000e+00\n",
      "Epoch 9/30\n",
      "44/44 [==============================] - 0s 5ms/step - loss: nan - acc: 0.0000e+00 - val_loss: nan - val_acc: 0.0000e+00\n",
      "Epoch 10/30\n",
      "44/44 [==============================] - 0s 5ms/step - loss: nan - acc: 0.0000e+00 - val_loss: nan - val_acc: 0.0000e+00\n",
      "Epoch 11/30\n",
      "44/44 [==============================] - 0s 5ms/step - loss: nan - acc: 0.0000e+00 - val_loss: nan - val_acc: 0.0000e+00\n",
      "Epoch 12/30\n",
      "44/44 [==============================] - 0s 5ms/step - loss: nan - acc: 0.0000e+00 - val_loss: nan - val_acc: 0.0000e+00\n",
      "Epoch 13/30\n",
      "44/44 [==============================] - 0s 6ms/step - loss: nan - acc: 0.0000e+00 - val_loss: nan - val_acc: 0.0000e+00\n",
      "Epoch 14/30\n",
      "44/44 [==============================] - 0s 5ms/step - loss: nan - acc: 0.0000e+00 - val_loss: nan - val_acc: 0.0000e+00\n",
      "Epoch 15/30\n",
      "44/44 [==============================] - 0s 5ms/step - loss: nan - acc: 0.0000e+00 - val_loss: nan - val_acc: 0.0000e+00\n",
      "Epoch 16/30\n",
      "44/44 [==============================] - 0s 5ms/step - loss: nan - acc: 0.0000e+00 - val_loss: nan - val_acc: 0.0000e+00\n",
      "Epoch 17/30\n",
      "44/44 [==============================] - 0s 5ms/step - loss: nan - acc: 0.0000e+00 - val_loss: nan - val_acc: 0.0000e+00\n",
      "Epoch 18/30\n",
      "44/44 [==============================] - 0s 5ms/step - loss: nan - acc: 0.0000e+00 - val_loss: nan - val_acc: 0.0000e+00\n",
      "Epoch 19/30\n",
      "44/44 [==============================] - 0s 5ms/step - loss: nan - acc: 0.0000e+00 - val_loss: nan - val_acc: 0.0000e+00\n",
      "Epoch 20/30\n",
      "44/44 [==============================] - 0s 5ms/step - loss: nan - acc: 0.0000e+00 - val_loss: nan - val_acc: 0.0000e+00\n",
      "Epoch 21/30\n",
      "44/44 [==============================] - 0s 5ms/step - loss: nan - acc: 0.0000e+00 - val_loss: nan - val_acc: 0.0000e+00\n",
      "Epoch 22/30\n",
      "44/44 [==============================] - 0s 5ms/step - loss: nan - acc: 0.0000e+00 - val_loss: nan - val_acc: 0.0000e+00\n",
      "Epoch 23/30\n",
      "44/44 [==============================] - 0s 6ms/step - loss: nan - acc: 0.0000e+00 - val_loss: nan - val_acc: 0.0000e+00\n",
      "Epoch 24/30\n",
      "44/44 [==============================] - 0s 5ms/step - loss: nan - acc: 0.0000e+00 - val_loss: nan - val_acc: 0.0000e+00\n",
      "Epoch 25/30\n",
      "44/44 [==============================] - 0s 6ms/step - loss: nan - acc: 0.0000e+00 - val_loss: nan - val_acc: 0.0000e+00\n",
      "Epoch 26/30\n",
      "44/44 [==============================] - 0s 6ms/step - loss: nan - acc: 0.0000e+00 - val_loss: nan - val_acc: 0.0000e+00\n",
      "Epoch 27/30\n",
      "44/44 [==============================] - 0s 5ms/step - loss: nan - acc: 0.0000e+00 - val_loss: nan - val_acc: 0.0000e+00\n",
      "Epoch 28/30\n",
      "44/44 [==============================] - 0s 5ms/step - loss: nan - acc: 0.0000e+00 - val_loss: nan - val_acc: 0.0000e+00\n",
      "Epoch 29/30\n",
      "44/44 [==============================] - 0s 5ms/step - loss: nan - acc: 0.0000e+00 - val_loss: nan - val_acc: 0.0000e+00\n",
      "Epoch 30/30\n",
      "44/44 [==============================] - 0s 5ms/step - loss: nan - acc: 0.0000e+00 - val_loss: nan - val_acc: 0.0000e+00\n"
     ]
    },
    {
     "data": {
      "text/plain": [
       "<keras.callbacks.History at 0x7fb5601f56d0>"
      ]
     },
     "execution_count": 23,
     "metadata": {},
     "output_type": "execute_result"
    }
   ],
   "source": [
    "# epsilon, beta, input_shape, model_latent_space, model_classifier, \n",
    "adv_model = AdvModel(\n",
    "    epsilon = 0.001, \n",
    "    beta = 0.05, \n",
    "    input_shape = X_train.shape[1:],\n",
    "    model_latent_space = tf.keras.models.Sequential([\n",
    "            tf.keras.layers.LSTM(64, return_sequences= False)\n",
    "        ]),\n",
    "    model_classifier = tf.keras.models.Sequential([\n",
    "            tf.keras.layers.Dense(3, activation = \"linear\")\n",
    "        ])\n",
    ")\n",
    "adv_model.compile(\n",
    "    loss= \"hinge\",\n",
    "    optimizer = tf.keras.optimizers.Adam(learning_rate = 1E-2),\n",
    "    metrics = [\"acc\"]\n",
    ")\n",
    "model.fit(\n",
    "    X_train, y_train,\n",
    "    validation_data = (X_validation, y_validation),\n",
    "    epochs = 30,\n",
    "    batch_size = 1024\n",
    ")\n"
   ]
  }
 ],
 "metadata": {
  "kernelspec": {
   "display_name": "Python 3 (ipykernel)",
   "language": "python",
   "name": "python3"
  },
  "language_info": {
   "codemirror_mode": {
    "name": "ipython",
    "version": 3
   },
   "file_extension": ".py",
   "mimetype": "text/x-python",
   "name": "python",
   "nbconvert_exporter": "python",
   "pygments_lexer": "ipython3",
   "version": "3.10.6"
  }
 },
 "nbformat": 4,
 "nbformat_minor": 4
}
