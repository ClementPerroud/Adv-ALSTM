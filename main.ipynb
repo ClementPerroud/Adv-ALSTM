{
 "cells": [
  {
   "cell_type": "code",
   "execution_count": null,
   "metadata": {},
   "outputs": [],
   "source": [
    "import tensorflow as tf\n",
    "import pandas as pd\n",
    "import numpy as np\n",
    "import glob\n",
    "import datetime\n",
    "from sklearn.preprocessing import robust_scale\n",
    "from tqdm.auto import tqdm"
   ]
  },
  {
   "cell_type": "code",
   "execution_count": null,
   "metadata": {},
   "outputs": [],
   "source": [
    "T = 15\n",
    "\n",
    "date_limit_train_validation = datetime.datetime(year = 2016, month=5, day=1)\n",
    "features = {\n",
    "    \"preprocessed_open\": lambda df : df[\"Open\"] / df[\"Close\"] - 1,\n",
    "    \"preprocessed_high\": lambda df : df[\"High\"] / df[\"Close\"] - 1,\n",
    "    \"preprocessed_low\": lambda df : df[\"Low\"] / df[\"Close\"] - 1,\n",
    "    \"preprocessed_close\": lambda df : df[\"Close\"].pct_change(),\n",
    "    \"preprocessed_adj_close\": lambda df : df[\"Adj Close\"].pct_change(),\n",
    "    \"preprocessed_5-day\": lambda df : (df[\"Adj Close\"].rolling(5).mean() / df[\"Adj Close\"]) -1,\n",
    "    \"preprocessed_10-day\": lambda df : (df[\"Adj Close\"].rolling(10).mean() / df[\"Adj Close\"]) -1,\n",
    "    \"preprocessed_15-day\": lambda df : (df[\"Adj Close\"].rolling(15).mean() / df[\"Adj Close\"]) -1,\n",
    "    \"preprocessed_20-day\": lambda df : (df[\"Adj Close\"].rolling(20).mean() / df[\"Adj Close\"]) -1,\n",
    "    \"preprocessed_25-day\": lambda df : (df[\"Adj Close\"].rolling(25).mean() / df[\"Adj Close\"]) -1,\n",
    "    \"preprocessed_30-day\": lambda df : (df[\"Adj Close\"].rolling(30).mean() / df[\"Adj Close\"]) -1,\n",
    "    \"preprocessed_volume\": lambda df : df[\"Volume\"]\n",
    "}\n",
    "\n"
   ]
  },
  {
   "cell_type": "code",
   "execution_count": null,
   "metadata": {},
   "outputs": [],
   "source": [
    "def labelling(df):\n",
    "   df[\"temp\"] =  (df[\"Adj Close\"].shift(-1) / df[\"Adj Close\"] ) - 1\n",
    "   df[\"label\"] = 0\n",
    "   df.loc[df[\"temp\"] > 0.55/100, \"label\"] = 1\n",
    "   df.loc[df[\"temp\"] < -0.50/100, \"label\"] = -1\n",
    "   \n",
    "   df.drop(df[df[\"label\"] == 0].index, inplace= True)\n",
    "   del df[\"temp\"]\n",
    "def generate_sequences(df, features_columns):\n",
    "    X_stock_array = np.array(df[features_columns])\n",
    "    y_stock_array = np.array(df[\"label\"])\n",
    "    sequences_indexes = [np.arange(i, T + i, 1) for i in range(len(df) - T)]\n",
    "    _X = X_stock_array[sequences_indexes]\n",
    "    _y = y_stock_array[sequences_indexes][:, -1]\n",
    "    return _X, _y\n",
    "def shuffled_X_y(X, y):\n",
    "    assert len(X) == len(y)\n",
    "    p = np.random.permutation(len(X))\n",
    "    return X[p], y[p]"
   ]
  },
  {
   "cell_type": "code",
   "execution_count": null,
   "metadata": {},
   "outputs": [],
   "source": [
    "raw_data_path = \"data/stocknet-dataset/price/raw/*.csv\"\n",
    "raw_data_pathes = glob.glob(raw_data_path)\n",
    "\n",
    "X_train, y_train = None, None\n",
    "X_validation, y_validation = None, None\n",
    "#Iterate through each stock RAW data\n",
    "for path in tqdm(raw_data_pathes): \n",
    "    stock_df = pd.read_csv(path, parse_dates=[\"Date\"],index_col=\"Date\")\n",
    "    \n",
    "    ## Generate labels\n",
    "    labelling(stock_df)\n",
    "\n",
    "    ## Preprocessing\n",
    "    stock_df.sort_index(inplace= True)\n",
    "    stock_df.dropna(inplace = True)\n",
    "\n",
    "    ### Apply features functions\n",
    "    for feature_key in features.keys(): \n",
    "        stock_df[feature_key] = robust_scale(features[feature_key](stock_df))\n",
    "    stock_df.dropna(inplace = True)\n",
    "\n",
    "    train_stock_df = stock_df[stock_df.index < date_limit_train_validation]\n",
    "    validation_stock_df = stock_df[stock_df.index >= date_limit_train_validation]\n",
    "\n",
    "    ## Generate sequences\n",
    "    X_stock_train, y_stock_train = generate_sequences(df = train_stock_df, features_columns= features.keys())\n",
    "    X_stock_validation, y_stock_validation = generate_sequences(df = validation_stock_df, features_columns= features.keys())\n",
    "\n",
    "    if X_train is None: X_train = X_stock_train\n",
    "    else : X_train = np.concatenate([X_train, X_stock_train], axis = 0)\n",
    "    if X_validation is None: X_validation = X_stock_validation\n",
    "    else : X_validation = np.concatenate([X_validation, X_stock_validation], axis = 0)\n",
    "    if y_train is None: y_train = y_stock_train\n",
    "    else : y_train = np.concatenate([y_train, y_stock_train], axis = 0)\n",
    "    if y_validation is None: y_validation = y_stock_validation\n",
    "    else : y_validation = np.concatenate([y_validation, y_stock_validation], axis = 0)\n",
    "\n",
    "# Shuffle X and y\n",
    "X_train, y_train = shuffled_X_y(X_train, y_train)\n",
    "X_validation, y_validation = shuffled_X_y(X_validation, y_validation)\n",
    "X_train.shape, y_train.shape, X_validation.shape, y_validation.shape"
   ]
  },
  {
   "cell_type": "code",
   "execution_count": null,
   "metadata": {},
   "outputs": [],
   "source": [
    "model = tf.keras.models.Sequential([\n",
    "    tf.keras.layers.LSTM(64, return_sequences= False),\n",
    "    tf.keras.layers.Dense(3, activation=\"softmax\")\n",
    "])\n",
    "model.compile(\n",
    "    loss= \"sparse_categorical_crossentropy\",\n",
    "    optimizer= \"adam\",\n",
    "    metrics = [\"acc\"]\n",
    ")\n",
    "model.fit(\n",
    "    X_train, y_train + 1,\n",
    "    validation_data = (X_validation, y_validation + 1),\n",
    "    epochs = 10,\n",
    "    batch_size = 1024\n",
    ")"
   ]
  }
 ],
 "metadata": {
  "kernelspec": {
   "display_name": "Python 3",
   "language": "python",
   "name": "python3"
  },
  "language_info": {
   "codemirror_mode": {
    "name": "ipython",
    "version": 3
   },
   "file_extension": ".py",
   "mimetype": "text/x-python",
   "name": "python",
   "nbconvert_exporter": "python",
   "pygments_lexer": "ipython3",
   "version": "3.10.6"
  },
  "orig_nbformat": 4
 },
 "nbformat": 4,
 "nbformat_minor": 2
}
